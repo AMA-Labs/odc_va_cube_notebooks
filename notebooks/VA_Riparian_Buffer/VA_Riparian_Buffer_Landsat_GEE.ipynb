{
 "cells": [
  {
   "cell_type": "markdown",
   "metadata": {
    "tags": []
   },
   "source": [
    "# Remote Sensing of Riparian Buffer Ecological Effects\n",
    "---\n",
    "## Abstract\n",
    "Riparian Buffer Systems refer to vegetation growing along rivers which fulfill an important ecological role:  they filter non-point source pollution such as fertilizer containing farm runoff and help prevent undesirable ecological effects downstream.  Such effects include algal blooms and creation of dead zones in oceans and lakes, adversely effecting animal and human life as well as local economies which depend on fishing and tourism.  This notebook demonstrates how to perform GIS-based analyses using Open Data Cube to investigate such systems.  Specifically, this notebook presents several methods of integrating non-GIS and GIS data (laboratory based chemical analyses of water, as well as GIS based sensing of vegetation and Total Suspended Matter) by using the Elizabeth River in Virginia and the Chesapeake Bay as an example.  This notebook also presents and demonstrates an algorithm for identifying riparian zones and calculating NDVI indexes for them. \n",
    "\n",
    "\n",
    "## [Index](#Index)\n",
    "* [Introduction](#Introduction-%E2%96%B4)\n",
    "* [Background](#)\n",
    "    * [History](#History)\n",
    "    * [Riparian Buffer Zones](#Riparian-Buffer-Zones)\n",
    "* [Configuration and Dependencies](#Configuration-and-Dependencies-%E2%96%B4)\n",
    "* [Water Quality Monitoring Stations](#-Water-Quality-Monitoring-Stations-%E2%96%B4)\n",
    "    * [Map of All Available Stations](#Map-of-All-Available-Stations)\n",
    "    * [Elizabeth River Stations](#Elizabeth-River-Stations)\n",
    "* [Water Quality Data](#Water-Quality-Data-%E2%96%B4)\n",
    "    * [Optical Density Data](#Optical-Density-Data-%E2%96%B4)\n",
    "* [Landsat 8 Data](#Landsat-8-Data-%E2%96%B4)\n",
    "    * [Total Suspended Matter (TSM)](#Total-Suspended-Matter-(TSM))\n",
    "    * [Mean Total Suspended Matter (TSM) Per Pixel](#Mean-Total-Suspended-Matter-(TSM)-Per-Pixel)\n",
    "    * [Maximum Total Suspended Matter (TSM) Per Pixel](#Maximum-Total-Suspended-Matter-(TSM)-Per-Pixel)\n",
    "    * [Normalized Difference Vegetation Index (NDVI)](#Normalized-Difference-Vegetation-Index-(NDVI))\n",
    "    * [Paradise Creek Restoration](#Paradise-Creek-Restoration)\n",
    "* [Data Correlation Matrix](#Data-Correlation-Matrix-%E2%96%B4)\n",
    "    * [List of Strong Correlations](#List-of-Strong-Correlations)\n",
    "* [Data Plots](#Data-Plots-%E2%96%B4)\n",
    "    * [Dissolved Oxygen and Phosphates](#Dissolved-Oxygen-and-Phosphates)\n",
    "    * [Temperature](#Temperature)\n",
    "    * [Filtered Nitrates, Total Dissolved Phosphorus, and Total Suspended Solids](#Filtered-Nitrates,-Total-Dissolved-Phosphorus,-and-Total-Suspended-Solids)\n",
    "    * [Optical Density](#Optical-Density)\n",
    "* [Conclusion and Future Work](#Conclusion-and-Future-Work-%E2%96%B4)\n",
    "* [References](#References-%E2%96%B4)\n",
    "    \n",
    "---\n",
    "![riparian Image](imgs/buffer_image.png)  Image from (Cunningham, Stuhlinger, and Liechty, n.d.) [1]\n",
    "\n",
    "## [Introduction &#9652;](#Index)\n",
    "The goal of this notebook is to explore novel methods for remotely evaluating riparian buffer zones and assessing their ecological effects on water quality. The hope is to use the capabilities of the Open Data Cube platform in combination with water quality data to quantitatively examine links between environmental pollution, riparian vegetation, and water quality in the Chesapeake Bay. This notebook will also serve as a technological demonstration fusing data from both GIS and non-GIS data sources.\n",
    "\n",
    "## [Background &#9652;](#Index)\n",
    "The Chesapeake Bay is the largest estuary in the United States and is the defining feature of the Virginia coast. As such, the health of its ecosystems is of concern to all Virginians. This notebook also focuses on the Bay and watershed as a case study because of its locality, history of restoration projects, and water quality monitoring.\n",
    "\n",
    "### History\n",
    "In the late 1970s and early 1980s, under the leadership of Sen. Charles Mathias, Congress initiated studies into the rapid loss of both aquatic and wildlife in the Chesapeake Bay watershed. These studies drew attention to the bays declining water quality and identified three areas of immediate concern:\n",
    "- toxic pollutant levels\n",
    "- the decline of bay grasses \n",
    "- nutrient over enrichment\n",
    "\n",
    "The findings led to support for the adoption of The Chesapeake Bay Agreement of 1983 which established the Chesapeake Executive Counsel which formed the Chesapeake Bay Program Executive Council. Two further agreements, The 1987 Chesapeake Bay Agreement and Chesapeake 2000, were later signed adding more partners, setting quantitative goals for the Bay ecosystem, and setting out guides for restoration efforts. Part of these efforts have focused on restoring riparian buffer zones to control non-point sources of pollution.\n",
    "\n",
    "\n",
    "### Riparian Buffer Zones\n",
    "Riparian buffers are areas of vegetation composed of grasses, shrubs, or forest in transition zones between land and water. Buffers are important for slowing runoff and enhancing water infiltration. By slowing runoff and trapping sediment, buffers minimize the opportunities for pollutants to contaminate surface or groundwater. Riparian buffers are conceptualized in three zones each with distinct functions.\n",
    "![Buffer zones](imgs/buffer_zones.png)(Cunningham, Stuhlinger, and Liechty, n.d.) [1]\n",
    "\n",
    "These zones are important in both agrarian and suburban settings, the core being the riparian forrest zone.\n",
    "\n",
    "![Examples](imgs/buffer_examples.png)(Cunningham, Stuhlinger, and Liechty, n.d.) [1]\n",
    "\n",
    "Riparian Buffer zones serve three primary functions in improving water quality:\n",
    "1. Converting Surface flow to Subsurface flow\n",
    "2. Absorbing Nitrogen and Phosphorous Nutrients\n",
    "3. Retaining Sediment\n",
    "\n",
    "![Hydrogeomorphic Regions](imgs/hydrogeomorphic_regions.png)(Lowrance et al. 1997) [2]\n",
    "\n",
    "The immediate Chesapeake Bay Area consists primarily of two hydrogeomorphic zones: the Inner Coastal Plain on the western shore and Poorly Drained Upland on the Delmarva Peninsula. \n",
    "\n",
    "<img src = \"imgs/inner_coastal_plain.png\" width=\"600\"/>\n",
    "\n",
    "<img src = \"imgs/poorly_drained.png\" width=\"1000\"/>\n",
    "    \n",
    "(Lowrance et al. 1997) [2]"
   ]
  },
  {
   "cell_type": "markdown",
   "metadata": {},
   "source": [
    "## [Configuration and Dependencies &#9652;](#Index)\n",
    "Before we attemnpt to analyze any data, we must first setup our programming enviroment by importing any Python libraries we may need for our analysis. Below we add the folium library, which we will use to display maps in the notebook, as well as the numpy, xarray, and pandas libraries which we will use to manipulate our data. The seaborn and matplotlib libraries are used to plot and graphicaly display our results."
   ]
  },
  {
   "cell_type": "code",
   "execution_count": null,
   "metadata": {},
   "outputs": [],
   "source": [
    "import sys\n",
    "sys.path.append(\"..\") #Required to use Data Cube utilities\n",
    "\n",
    "import warnings\n",
    "\n",
    "import folium\n",
    "import folium.plugins\n",
    "import numpy as np\n",
    "import xarray as xr\n",
    "import pandas as pd\n",
    "pd.options.display.max_columns = None\n",
    "\n",
    "import seaborn as sns\n",
    "import matplotlib.pyplot as plt\n",
    "import matplotlib.pylab as pylab\n",
    "params = {\n",
    "    \"xtick.labelsize\": 14,\n",
    "    \"ytick.labelsize\": 14,\n",
    "    \"legend.fontsize\": 14,\n",
    "    \"axes.labelsize\": 18,\n",
    "    \"axes.titlesize\": 20,\n",
    "    \"axes.grid\": True,\n",
    "    \"lines.linewidth\": 2,\n",
    "}\n",
    "pylab.rcParams.update(params)\n",
    "\n",
    "import utils.data_cube_utilities.data_access_api as dc_api\n",
    "from utils.data_cube_utilities.clean_mask import landsat_qa_clean_mask\n",
    "from utils.data_cube_utilities.dc_water_classifier import wofs_classify\n",
    "from utils.data_cube_utilities.dc_water_quality import tsm\n",
    "from utils.data_cube_utilities.plotter_utils import figure_ratio\n",
    "from utils.data_cube_utilities.dc_mosaic import create_median_mosaic\n",
    "from utils.data_cube_utilities.vegetation import NDVI\n",
    "api = dc_api.DataAccessApi()\n",
    "dc = api.dc"
   ]
  },
  {
   "cell_type": "markdown",
   "metadata": {},
   "source": [
    "## [ Water Quality Monitoring Stations &#9652;](#Index)\n",
    "---\n",
    "In order to explore what potential water quality information can be gleaned from Landsat imagery, a source of ground truth data is needed. Water quality measurements were obtained from the Chesapeake Bay Program via the [Chesapeake Bay Data Hub](http://data.chesapeakebay.net). Although not all collections feature all water quality tests and parameters, the data has an extensive history generally stretching back to 1984.\n",
    "\n",
    "The subset of required data was downloaded from the Chesapeake Bay Data Hub and converted to a parquet format to make it a managable size. The parquet format is a free and open-source format maintianed as part of the Apache project. In order to manipulate the data we must first read it into a Pandas dataframe. Conveniently, we can use the built in read_parquet Pandas method as long as the fastparquet or pyarrow libary dependency is satisfied. In the data set all data collection sites are referred to as \"stations\"."
   ]
  },
  {
   "cell_type": "code",
   "execution_count": null,
   "metadata": {},
   "outputs": [],
   "source": [
    "data = pd.read_parquet(\"data/water_quality.pq.gzip\")\n",
    "data_stations = list(set(data[\"station\"]))\n",
    "data_stations.sort()\n",
    "stations = pd.read_parquet(\"data/stations.pq.gzip\").loc[data_stations]\n",
    "#stations"
   ]
  },
  {
   "cell_type": "markdown",
   "metadata": {},
   "source": [
    "### Map of All Available Stations\n",
    "Below we create a map using the Folium python library to display all the stations available in the subset of data downloaded from the Chesapeake Bay Data Hub. We instantiate the map with an initial location over the Chesapeake Bay and at an appropriate zoom level. We then add a layer of satellite imagery and then iterate over the dataset adding a marker at the location for each station. Finally, a few user comforts are added to the map, such as mini-map and full screen viewing. "
   ]
  },
  {
   "cell_type": "code",
   "execution_count": null,
   "metadata": {},
   "outputs": [],
   "source": [
    "m = folium.Map(location=[39, -78], zoom_start=7,tiles = 'Stamen Terrain')\n",
    "folium.raster_layers.WmsTileLayer(\n",
    "    url = 'http://services.arcgisonline.com/arcgis/rest/services/World_Imagery' + '/MapServer/tile/{z}/{y}/{x}',\n",
    "    layers = None,\n",
    "    name = 'Esri WorldImagery',\n",
    "    attr = 'Tiles &copy; Esri &mdash; Source: Esri, i-cubed, USDA, USGS, AEX, GeoEye, Getmapping, Aerogrid, IGN, IGP, UPR-EGP, and the GIS User Community').add_to(m)\n",
    "for i, s in stations.iterrows():\n",
    "    if not np.isnan(s.Latitude):\n",
    "        folium.Circle([s.Latitude, s.Longitude],radius = 100, color='red', fill_color='red', popup=i, tooltip=s.Description, fill =True).add_to(m)\n",
    "mini = folium.plugins.MiniMap(toggle_display = True)\n",
    "m.add_child(mini)\n",
    "folium.plugins.ScrollZoomToggler().add_to(m)\n",
    "folium.plugins.Fullscreen(position='topright').add_to(m)\n",
    "folium.LayerControl().add_to(m)\n",
    "m"
   ]
  },
  {
   "cell_type": "markdown",
   "metadata": {},
   "source": [
    "### Elizabeth River Stations \n",
    "Below we select a subset of stations which are in an area of interest on the Elizabeth River. Although the Elizabeth River has a relatively small watershed, it has been one of the most stressed areas of the Chesapeake Bay.  The Elizabeth River Project describes the river as long being infamous for its levels of pollution. The river faces many challenges as much of the shoreline is dominated by the urban and suburban areas of Norfolk and Portsmouth. "
   ]
  },
  {
   "cell_type": "code",
   "execution_count": null,
   "metadata": {},
   "outputs": [],
   "source": [
    "loc = [36.83, -76.33]\n",
    "eliz_stations = stations[(abs(stations.Latitude - loc[0]) < 0.1) & (abs(stations.Longitude - loc[1]) < 0.12)]\n",
    "main_stations = [1240, 1241, 1243, 1341]\n",
    "ne_stations = [1342, 1343]\n",
    "east_stations = [1225, 1226]\n",
    "west_stations = [1671, 1672]\n",
    "south_stations = [1521, 1524]"
   ]
  },
  {
   "cell_type": "markdown",
   "metadata": {},
   "source": [
    "#### Map of Stations of Interest\n",
    "We proceed to map the station locations to get a better idea of their distribution and of the surrounding area from which the water quality is being sampled."
   ]
  },
  {
   "cell_type": "code",
   "execution_count": null,
   "metadata": {},
   "outputs": [],
   "source": [
    "eliz_map = folium.Map(location=loc, zoom_start=12, tiles = \"Stamen Terrain\" )\n",
    "folium.raster_layers.WmsTileLayer(\n",
    "    url = 'http://services.arcgisonline.com/arcgis/rest/services/World_Imagery' + '/MapServer/tile/{z}/{y}/{x}',\n",
    "    layers = None,\n",
    "    name = 'Esri WorldImagery',\n",
    "    attr = 'Tiles &copy; Esri &mdash; Source: Esri, i-cubed, USDA, USGS, AEX, GeoEye, Getmapping, Aerogrid, IGN, IGP, UPR-EGP, and the GIS User Community').add_to(eliz_map)\n",
    "folium.Marker([eliz_stations.loc[1240].Latitude, eliz_stations.loc[1240].Longitude], tooltip=folium.Tooltip(\n",
    "    \"Main Body\", permanent=True, direction=\"right\", offset=(30, -10))).add_to(eliz_map)\n",
    "folium.Marker([eliz_stations.loc[1343].Latitude, eliz_stations.loc[1343].Longitude], tooltip=folium.Tooltip(\n",
    "    \"Northeast Branch\", permanent=True, direction=\"right\", offset=(30, -10))).add_to(eliz_map)\n",
    "folium.Marker([eliz_stations.loc[1225].Latitude, eliz_stations.loc[1225].Longitude], tooltip=folium.Tooltip(\n",
    "    \"East Branch\", permanent=True, direction=\"top\", offset=(60, -10))).add_to(eliz_map)\n",
    "folium.Marker([eliz_stations.loc[1671].Latitude, eliz_stations.loc[1671].Longitude], tooltip=folium.Tooltip(\n",
    "    \"West Branch\", permanent=True, direction=\"top\", offset=(50, -40))).add_to(eliz_map)\n",
    "folium.Marker([eliz_stations.loc[1517].Latitude, eliz_stations.loc[1517].Longitude], tooltip=folium.Tooltip(\n",
    "    \"South Branch\", permanent=True, direction=\"right\", offset=(10, 0))).add_to(eliz_map)\n",
    "for i, s in eliz_stations.iterrows():\n",
    "    if not np.isnan(s.Latitude):\n",
    "        folium.Marker([s.Latitude, s.Longitude], popup=i, tooltip=s.Description).add_to(eliz_map)\n",
    "folium.plugins.ScrollZoomToggler().add_to(eliz_map)\n",
    "folium.plugins.Fullscreen(position='topright').add_to(eliz_map)\n",
    "folium.LayerControl().add_to(eliz_map)\n",
    "eliz_map.add_child(folium.plugins.MiniMap(toggle_display = True))\n",
    "eliz_map"
   ]
  },
  {
   "cell_type": "markdown",
   "metadata": {},
   "source": [
    "# [Water Quality Data &#9652;](#Index)\n",
    "---\n",
    "For this analysis, available water quality and optical density data from all monitoring stations from 2000 till present was imported. Of notable interest are the nitrogen and phosophorous parameters as they are of most concern for nutrient over enrichment.\n",
    "\n",
    "Below, all available water quality parameters are listed.\n",
    "\n",
    "*Note: not all monitoring events (times) include all variables.*"
   ]
  },
  {
   "cell_type": "code",
   "execution_count": null,
   "metadata": {},
   "outputs": [],
   "source": [
    "descrip = pd.read_parquet(\"data/water_quality_description.pq.gzip\")\n",
    "descrip"
   ]
  },
  {
   "cell_type": "code",
   "execution_count": null,
   "metadata": {
    "scrolled": true
   },
   "outputs": [],
   "source": [
    "eliz_data = data[data[\"station\"].isin(eliz_stations.index)].drop(\n",
    "    columns=[\"PON\", \"TOC\", \"POC\", \"PIP\", \"PIC\", \"SSC_sand\", \"alkalinity\", \"TDS\", \"SCC\", \"m_dot\", \"m_dot_avg\", \"SSC_fine\"])\n",
    "eliz_data[eliz_data.columns.difference([\"station\", \"lat\", \"lon\", \"depth\"])].describe().sort_values(\n",
    "    by=\"count\", ascending=False, axis=1)"
   ]
  },
  {
   "cell_type": "markdown",
   "metadata": {},
   "source": [
    "## [Optical Density Data &#9652;](#Index)\n",
    "Optical density data is of interest as it provides us with an indication of how photosynthetically active radiation will interact with the water column and influence biological activity of the aquatic ecosystem. The data is presented in units of  photon flux per square meter. "
   ]
  },
  {
   "cell_type": "code",
   "execution_count": null,
   "metadata": {},
   "outputs": [],
   "source": [
    "od_descrip = pd.read_parquet(\"data/optical_density_description.pq.gzip\")\n",
    "od_descrip"
   ]
  },
  {
   "cell_type": "code",
   "execution_count": null,
   "metadata": {
    "scrolled": true
   },
   "outputs": [],
   "source": [
    "od_data = pd.read_parquet(\"data/optical_density.pq.gzip\")\n",
    "eliz_od_data = od_data[od_data[\"station\"].isin(eliz_stations.index)]\n",
    "eliz_od_data[eliz_od_data.columns.difference([\"station\", \"lat\", \"lon\", \"depth\"])].describe().sort_values(\n",
    "    by=\"count\", ascending=False, axis=1)"
   ]
  },
  {
   "cell_type": "markdown",
   "metadata": {},
   "source": [
    "# [Landsat 8 Data &#9652;](#Index)\n",
    "---\n",
    "The Landsat 8 is an earth observation satellite administered jointly by NASA and the USGS. Launched in 2013, it has both visible and infrared sensors with resolution ranging from 15 to 100 meters. In this section, we use multispectral images taken by Landst 8 to compute the Total Suspended Matter and Normalized Difference Vegetation Index around the Elizabeth River."
   ]
  },
  {
   "cell_type": "code",
   "execution_count": null,
   "metadata": {},
   "outputs": [],
   "source": [
    "lat = (36.9664, 36.7218)\n",
    "lon = (-76.4351, -76.1591)\n",
    "time = (\"2013-01-01\", \"2020-12-31\")\n",
    "measurements = [\"red\", \"green\", \"blue\", \"nir\", \"swir1\", \"swir2\", \"pixel_qa\"]\n",
    "ls8_data = dc.load(platform=\"LANDSAT_8\", product=\"ls8_lasrc_va3414\", \n",
    "                   lat=lat, lon=lon, time=time, measurements=measurements)\n",
    "ls8_data = ls8_data.where(landsat_qa_clean_mask(ls8_data, \"LANDSAT_8\")).astype('int16')\n",
    "\n",
    "# Divide the river into branches\n",
    "western_branch = dict(latitude=slice(36.8700, 36.7866), longitude=slice(-76.9500, -76.3376))\n",
    "southern_branch = dict(latitude=slice(36.8424, 36.7), longitude=slice(-76.3650, -76.2375))\n",
    "eastern_branch = dict(latitude=slice(36.88, 36.8), longitude=slice(-76.29, -76.15))\n",
    "main_body = dict(latitude=slice(36.9658, 36.8380), longitude=slice(-76.3665, -76.295))"
   ]
  },
  {
   "cell_type": "markdown",
   "metadata": {},
   "source": [
    "### Total Suspended Matter (TSM)"
   ]
  },
  {
   "cell_type": "markdown",
   "metadata": {},
   "source": [
    "Total suspended matter is a measure of the amount of solid particulate mater suspended in the water. This measurement is calculated by comparing the reflectance in several select bands which change as more particulate matter becomes suspended. "
   ]
  },
  {
   "cell_type": "code",
   "execution_count": null,
   "metadata": {},
   "outputs": [],
   "source": [
    "with warnings.catch_warnings():\n",
    "    warnings.simplefilter(\"ignore\")\n",
    "    water_mask = wofs_classify(ls8_data, no_data=0.0).wofs.astype(np.bool)\n",
    "water_data = ls8_data.where(water_mask).astype(\"int16\")"
   ]
  },
  {
   "cell_type": "code",
   "execution_count": null,
   "metadata": {},
   "outputs": [],
   "source": [
    "tsm_data = tsm(water_data)\n",
    "main_tsm = tsm_data.sel(main_body)\n",
    "east_tsm = tsm_data.sel(eastern_branch)\n",
    "south_tsm = tsm_data.sel(southern_branch)\n",
    "west_tsm = tsm_data.sel(western_branch)"
   ]
  },
  {
   "cell_type": "markdown",
   "metadata": {},
   "source": [
    "### Mean Total Suspended Matter (TSM) Per Pixel\n",
    "Here the mean TSM for each pixel is calulated for the observation time."
   ]
  },
  {
   "cell_type": "code",
   "execution_count": null,
   "metadata": {},
   "outputs": [],
   "source": [
    "mean_tsm_per_pixel = tsm_data.mean(dim=[\"time\"]).fillna(0)\n",
    "main_body_per_pixel_mean = main_tsm.mean(dim=[\"time\"]).fillna(0)\n",
    "east_branch_per_pixel_mean = east_tsm.mean(dim=[\"time\"]).fillna(0)\n",
    "south_branch_per_pixel_mean = south_tsm.mean(dim=[\"time\"]).fillna(0)\n",
    "west_branch_per_pixel_mean = west_tsm.mean(dim=[\"time\"]).fillna(0)\n",
    "\n",
    "fig, axes = plt.subplots(nrows=5, figsize=(12, 60))\n",
    "\n",
    "river_sections = [mean_tsm_per_pixel, \n",
    "                  main_body_per_pixel_mean, \n",
    "                  east_branch_per_pixel_mean, \n",
    "                  south_branch_per_pixel_mean, \n",
    "                  west_branch_per_pixel_mean]\n",
    "\n",
    "titles = ['Elizabeth River',\n",
    "          'Main Body',\n",
    "          'Eastern Branch',\n",
    "          'Southern Branch',\n",
    "          'Western Branch']\n",
    "\n",
    "for i, river_section in enumerate(river_sections):\n",
    "    extent = [river_section.longitude.min(),\n",
    "          river_section.longitude.max(),\n",
    "          river_section.latitude.min(),\n",
    "          river_section.latitude.max()]\n",
    "    im = axes[i].imshow(river_section.tsm, cmap='hot', extent=extent)\n",
    "    axes[i].grid(False)\n",
    "    axes[i].set_title(titles[i])\n",
    "    axes[i].set_xlabel('Longitude')\n",
    "    axes[i].set_ylabel('Latitude')\n",
    "    tsm_scale = fig.colorbar(im, ax=axes[i])\n",
    "    tsm_scale.set_label('TSM')"
   ]
  },
  {
   "cell_type": "markdown",
   "metadata": {},
   "source": [
    "The plot below shows the mean TSM for each section of the Elizabeth River per month between 2013 and 2020.\n",
    "\n",
    "The monthly mean was obtained by downsampling the original ~16 day data from Landsat to 1 month data. This is done to match the sample rate of the remaining water quality data."
   ]
  },
  {
   "cell_type": "code",
   "execution_count": null,
   "metadata": {},
   "outputs": [],
   "source": [
    "main_body_monthly_mean_tsm = main_tsm.mean(dim=['latitude', 'longitude']).resample(time=\"1M\").mean().dropna(dim='time')\n",
    "east_monthly_mean_tsm = east_tsm.mean(dim=['latitude', 'longitude']).resample(time=\"1M\").mean().dropna(dim='time')\n",
    "south_monthly_mean_tsm = south_tsm.mean(dim=['latitude', 'longitude']).resample(time=\"1M\").mean().dropna(dim='time')\n",
    "west_monthly_mean_tsm = west_tsm.mean(dim=['latitude', 'longitude']).resample(time=\"1M\").mean().dropna(dim='time')\n",
    "\n",
    "fig, ax = plt.subplots(nrows=1, figsize=(15, 5))\n",
    "\n",
    "main_body_monthly_mean_tsm.tsm.plot(ax=ax, marker=\"o\", alpha=0.25, label=\"Main Body\")\n",
    "east_monthly_mean_tsm.tsm.plot(ax=ax, marker=\"o\", alpha=0.25, label=\"East Branch\")\n",
    "south_monthly_mean_tsm.tsm.plot(ax=ax, marker=\"o\", alpha=0.5, label=\"South Branch\")\n",
    "west_monthly_mean_tsm.tsm.plot(ax=ax, marker=\"o\", alpha=0.5, label=\"West Branch\")\n",
    "ax.legend()\n",
    "\n",
    "plt.title('Mean TSM')\n",
    "plt.xlabel('Time')\n",
    "plt.ylabel('TSM')\n",
    "plt.show()"
   ]
  },
  {
   "cell_type": "markdown",
   "metadata": {},
   "source": [
    "### Maximum Total Suspended Matter (TSM) Per Pixel\n",
    "Below, the maximum TSM value for each individual pixel across the dataset is displayed."
   ]
  },
  {
   "cell_type": "code",
   "execution_count": null,
   "metadata": {},
   "outputs": [],
   "source": [
    "max_tsm_per_pixel = tsm_data.max(dim=[\"time\"]).fillna(0)\n",
    "max_tsm_per_pixel = tsm_data.max(dim=[\"time\"]).fillna(0)\n",
    "main_body_per_pixel_max = main_tsm.max(dim=[\"time\"]).fillna(0)\n",
    "east_branch_per_pixel_max = east_tsm.max(dim=[\"time\"]).fillna(0)\n",
    "south_branch_per_pixel_max = south_tsm.max(dim=[\"time\"]).fillna(0)\n",
    "west_branch_per_pixel_max = west_tsm.max(dim=[\"time\"]).fillna(0)\n",
    "\n",
    "fig, axes = plt.subplots(nrows=5, figsize=(12, 60))\n",
    "\n",
    "river_sections = [max_tsm_per_pixel, \n",
    "                  main_body_per_pixel_max, \n",
    "                  east_branch_per_pixel_max, \n",
    "                  south_branch_per_pixel_max, \n",
    "                  west_branch_per_pixel_max]\n",
    "\n",
    "for i, river_section in enumerate(river_sections):\n",
    "    extent = [river_section.longitude.min(),\n",
    "          river_section.longitude.max(),\n",
    "          river_section.latitude.min(),\n",
    "          river_section.latitude.max()]\n",
    "    im = axes[i].imshow(river_section.tsm, cmap='hot', extent=extent)\n",
    "    axes[i].grid(False)\n",
    "    axes[i].set_title(titles[i])\n",
    "    axes[i].set_xlabel('Longitude')\n",
    "    axes[i].set_ylabel('Latitude')\n",
    "    tsm_scale = fig.colorbar(im, ax=axes[i])\n",
    "    tsm_scale.set_label('TSM')"
   ]
  },
  {
   "cell_type": "markdown",
   "metadata": {},
   "source": [
    "## Normalized Difference Vegetation Index (NDVI)"
   ]
  },
  {
   "cell_type": "markdown",
   "metadata": {},
   "source": [
    "NDVI is the ratio of the difference between the amount of near infrared light (NIR) and red light (RED) divided by their sum. It is used as an indicator of vegetation and to detect changes in vegetation over time.\n",
    "\n",
    "In the plots below, red indicates bare soil and/or highly urbanized areas, yellow indicates sparse vegetation like grasslands, and green indicates dense vegetation."
   ]
  },
  {
   "cell_type": "markdown",
   "metadata": {},
   "source": [
    "### Algorithm to Create a Riparian Buffer Mask\n",
    "\n",
    "To focus solely on the region immediately surrounding the Elizabeth River, we present a simple algorithm for isolating the riparian zone for analysis. A riparian buffer mask is created by dilating the existing water mask by 10 pixels (300 meters) and then removing the water mask again, leaving only the 300 meter area surrounding the water."
   ]
  },
  {
   "cell_type": "code",
   "execution_count": null,
   "metadata": {},
   "outputs": [],
   "source": [
    "from skimage.morphology import disk, dilation\n",
    "water_buffer_mask = water_mask.copy()\n",
    "for i in range(len(water_buffer_mask)):\n",
    "    water_buffer_mask[i] = xr.DataArray(dilation(water_mask[i], disk(10)), coords=water_mask[i].coords, dims=['latitude', 'longitude'], name='wofs')\n",
    "buffer_mask = xr.ufuncs.logical_xor(water_buffer_mask, water_mask)"
   ]
  },
  {
   "cell_type": "markdown",
   "metadata": {},
   "source": [
    "The images below are median pixel composites of the NDVI for regions bordering selected sections of the Elizabeth River. Red indicates bare soil and/or highly urbanized areas. Yellow indicates areas of light vegetation such as grasses and bushes. Green indicates areas of dense vegetation such as trees and forests. Blues and grayscale represent the water and remaining land, respectively which are displayed for context.\n",
    "\n",
    "This is accomplished by creating separate median pixel composites of the land, water, and NDVI for the region of interest and layering them on the same plot. "
   ]
  },
  {
   "cell_type": "code",
   "execution_count": null,
   "metadata": {},
   "outputs": [],
   "source": [
    "buffer_dataset = ls8_data.where(buffer_mask, other=-9999).astype(\"int16\")\n",
    "\n",
    "with warnings.catch_warnings():\n",
    "    warnings.simplefilter(\"ignore\")\n",
    "    ndvi_composite = NDVI(create_median_mosaic(buffer_dataset, nodata=-9999))\n",
    "\n",
    "from utils.data_cube_utilities.dc_rgb import rgb\n",
    "\n",
    "fig, axes = plt.subplots(nrows=5, figsize=(12, 60))\n",
    "\n",
    "elizabeth_river = dict(latitude=slice(36.9664, 36.7218), longitude=slice(-76.4351, -76.1591))\n",
    "\n",
    "river_sections = [elizabeth_river, \n",
    "                  main_body, \n",
    "                  eastern_branch, \n",
    "                  southern_branch, \n",
    "                  western_branch]\n",
    "\n",
    "titles = ['Elizabeth River',\n",
    "          'Main Body',\n",
    "          'Eastern Branch',\n",
    "          'Southern Branch',\n",
    "          'Western Branch']\n",
    "\n",
    "composite_buffer_mask = buffer_mask.median(dim='time').astype('bool')\n",
    "composite_buffer_mask = xr.ufuncs.logical_not(composite_buffer_mask)\n",
    "\n",
    "land_and_water_composite = create_median_mosaic(ls8_data, no_data=-9999)\n",
    "\n",
    "for i, river_section in enumerate(river_sections):\n",
    "    river_section = river_sections[i]\n",
    "    river_section_data = ndvi_composite.sel(river_sectionfro \n",
    "    extent = [river_section_data.longitude.min(),\n",
    "          river_section_data.longitude.max(),\n",
    "          river_section_data.latitude.min(),\n",
    "          river_section_data.latitude.max()]\n",
    "    river_section_mask = composite_buffer_mask.sel(river_section)\n",
    "    river_section_buffers = np.ma.masked_where(river_section_mask, river_section_data)\n",
    "    #rgb(land_and_water_composite.sel(river_section), bands=['nir', 'swir1', 'red'], min_possible=0, max_possible=5000, ax=axes[i])\n",
    "    im = axes[i].imshow(river_section_buffers, cmap='RdYlGn')\n",
    "    axes[i].grid(False)\n",
    "    axes[i].set_title(titles[i])\n",
    "    axes[i].set_xlabel('Longitude')\n",
    "    axes[i].set_ylabel('Latitude')\n",
    "    ndvi_scale = fig.colorbar(im, ax=axes[i])\n",
    "    ndvi_scale.set_label('NDVI')"
   ]
  },
  {
   "cell_type": "markdown",
   "metadata": {},
   "source": [
    "The plot below shows the mean NDVI for each section of the Elizabeth River per month between 2013 and 2020.\n",
    "\n",
    "The monthly mean was obtained by downsampling the original ~16 day day from Landsat to 1 month data. This was done to match the sample rate of the remaining water quality data."
   ]
  },
  {
   "cell_type": "code",
   "execution_count": null,
   "metadata": {},
   "outputs": [],
   "source": [
    "ndvi_data = NDVI(buffer_dataset)\n",
    "main_ndvi = ndvi_data.sel(main_body)\n",
    "east_ndvi = ndvi_data.sel(eastern_branch)\n",
    "south_ndvi = ndvi_data.sel(southern_branch)\n",
    "west_ndvi = ndvi_data.sel(western_branch)\n",
    "\n",
    "\n",
    "main_body_monthly_mean_ndvi = main_ndvi.mean(dim=['latitude', 'longitude'], skipna=True).resample(time=\"1M\") \\\n",
    "    .mean(skipna=True) \\\n",
    "    .dropna(dim='time')\n",
    "east_monthly_mean_ndvi = east_ndvi.mean(dim=['latitude', 'longitude'], skipna=True).resample(time=\"1M\") \\\n",
    "    .mean(skipna=True) \\\n",
    "    .dropna(dim='time')\n",
    "south_monthly_mean_ndvi = south_ndvi.mean(dim=['latitude', 'longitude'], skipna=True).resample(time=\"1M\") \\\n",
    "    .mean(skipna=True) \\\n",
    "    .dropna(dim='time')\n",
    "west_monthly_mean_ndvi = west_ndvi.mean(dim=['latitude', 'longitude'], skipna=True).resample(time=\"1M\") \\\n",
    "    .mean(skipna=True) \\\n",
    "    .dropna(dim='time')\n",
    "\n",
    "fig, ax = plt.subplots(nrows=1, figsize=(15, 5))\n",
    "\n",
    "main_body_monthly_mean_ndvi.plot(ax=ax, marker=\"o\", alpha=0.5, label=\"Main Body\")\n",
    "east_monthly_mean_ndvi.plot(ax=ax, marker=\"o\", alpha=0.5, label=\"East Branch\")\n",
    "south_monthly_mean_ndvi.plot(ax=ax, marker=\"o\", alpha=0.5, label=\"South Branch\")\n",
    "west_monthly_mean_ndvi.plot(ax=ax, marker=\"o\", alpha=0.5, label=\"West Branch\")\n",
    "ax.legend()\n",
    "\n",
    "plt.show()"
   ]
  },
  {
   "cell_type": "markdown",
   "metadata": {},
   "source": [
    "## Paradise Creek Restoration"
   ]
  },
  {
   "cell_type": "markdown",
   "metadata": {},
   "source": [
    "### Mapping region of restoration project\n",
    "\n",
    "Below, we apply the NDVI mapping algorithm to a documented riparian buffer restoration project [3] in order to verify the results of the project using LANDSAT8 data available to us. This methodology can be applied to other riparian buffer restoration projects to judge their efficacy.  "
   ]
  },
  {
   "cell_type": "code",
   "execution_count": null,
   "metadata": {},
   "outputs": [],
   "source": [
    "paradise_creek_lat_long = (36.7988, -76.3082)\n",
    "paradise_creek_loc_1 = (36.796508, -76.310391)\n",
    "paradise_creek_loc_2 = (36.801076, -76.306082)\n",
    "paradise_creek_lat = (paradise_creek_loc_1[0], paradise_creek_loc_2[0])\n",
    "paradise_creek_long = (paradise_creek_loc_1[1], paradise_creek_loc_2[1])\n",
    "paradise_creek_lat_long_rect = [paradise_creek_loc_1, paradise_creek_loc_2]\n",
    "m = folium.Map(location=paradise_creek_lat_long, zoom_start=16)\n",
    "folium.Rectangle(bounds=paradise_creek_lat_long_rect, color='#ff7800', fill=True, fill_color='#ffff00', fill_opacity=0.2).add_to(m)\n",
    "m"
   ]
  },
  {
   "cell_type": "markdown",
   "metadata": {},
   "source": [
    "### Collecting Landsat 7 data of restored region"
   ]
  },
  {
   "cell_type": "code",
   "execution_count": null,
   "metadata": {},
   "outputs": [],
   "source": [
    "paradise_creek_time = (\"2005-01-01\", \"2020-12-31\")\n",
    "paradise_creek_measurements = [\"red\", \"green\", \"blue\", \"nir\", \"swir1\", \"swir2\", \"pixel_qa\"]\n",
    "paradise_creek_ls7_data = dc.load(platform=\"LANDSAT_7\", product=\"ls7_ledaps_va3414\",\n",
    "                                  lat=paradise_creek_lat, lon=paradise_creek_long, \n",
    "                                  time=paradise_creek_time, measurements=paradise_creek_measurements)\n",
    "paradise_creek_ls7_data = paradise_creek_ls7_data.where(\n",
    "                              landsat_qa_clean_mask(paradise_creek_ls7_data, \"LANDSAT_7\")).astype('int16')"
   ]
  },
  {
   "cell_type": "markdown",
   "metadata": {},
   "source": [
    "### Getting NDVI data for restored region"
   ]
  },
  {
   "cell_type": "code",
   "execution_count": null,
   "metadata": {},
   "outputs": [],
   "source": [
    "paradise_creek_ndvi_composite = NDVI(create_median_mosaic(paradise_creek_ls7_data)).fillna(0)\n",
    "paradise_creek_ndvi_composite.plot(cmap=\"RdYlGn\")\n",
    "with warnings.catch_warnings():\n",
    "    warnings.simplefilter(\"ignore\")\n",
    "    paradise_creek_water_mask = wofs_classify(paradise_creek_ls7_data, no_data=0.0).wofs.astype(np.bool)\n",
    "paradise_creek_land_mask = xr.ufuncs.logical_not(paradise_creek_water_mask)\n",
    "paradise_creek_land_dataset = paradise_creek_ls7_data.where(paradise_creek_land_mask, other=0).astype(\"int16\")\n",
    "paradise_creek_ndvi_data = NDVI(paradise_creek_land_dataset)"
   ]
  },
  {
   "cell_type": "markdown",
   "metadata": {},
   "source": [
    "### Plotting NDVI data for every month over last 15 years, decreases at beginning of project, then averages upwards "
   ]
  },
  {
   "cell_type": "code",
   "execution_count": null,
   "metadata": {},
   "outputs": [],
   "source": [
    "with warnings.catch_warnings():\n",
    "    warnings.simplefilter(\"ignore\")\n",
    "    paradise_creek_monthly_mean_ndvi = paradise_creek_ndvi_data.mean(dim=['latitude', 'longitude']).resample(time=\"1M\").mean()\n",
    "fig, ax = plt.subplots(nrows=1, figsize=(15, 5))\n",
    "paradise_creek_monthly_mean_ndvi.plot(ax=ax, marker=\"o\", alpha=0.5, label=\"Paradise Creek NDVI\")\n",
    "\n",
    "ax.axvline(x='2010-09-30', color='red', label='Project Start')\n",
    "ax.axvline(x='2013-03-03', color='green', label='Project End')\n",
    "\n",
    "ax.legend()\n",
    "plt.show()"
   ]
  },
  {
   "cell_type": "markdown",
   "metadata": {},
   "source": [
    "It appears that the restoration project in question has not resulted in increased vegetation.  Upon closer inspection of the restoration site with higher resolution imagery, however, it appears that part of the restoration was creation of new wetland, along with walkways and a parking lot which would result in a lower NDVI value.  The NDVI value appears to have recovered in time as the plants matured.  According to the project report, the resulted in the restoration of 29 acres of mature forest and riparian buffer impacted by invasive species at Paradise Creek Nature Park [3]."
   ]
  },
  {
   "cell_type": "markdown",
   "metadata": {},
   "source": [
    "# [Data Correlation Matrix &#9652;](#Index)\n",
    "---\n",
    "In order to explore correlations in the water quality, optical density, and Landsat 8 data, the data structures were converted and appended to a time series data structure and resampled to a weekly cadence using the mean. Although most of the data has a monthly cadence, the weekly cadence provides greater resolution when available without oversampling."
   ]
  },
  {
   "cell_type": "code",
   "execution_count": null,
   "metadata": {},
   "outputs": [],
   "source": [
    "dim = [\"latitude\", \"longitude\"]\n",
    "ts_data = eliz_data.set_index(\"time\").drop(columns=[\"station\", \"lat\", \"lon\", \"depth\"])\n",
    "ts_data = ts_data[ts_data.index.year >= 2013]\n",
    "od_ts_data = eliz_od_data.set_index(\"time\").drop(columns=[\"station\", \"lat\", \"lon\", \"od_645b\", \"od_663b\"])\n",
    "od_ts_data = od_ts_data[od_ts_data.index.year >= 2013]\n",
    "ts_data = ts_data.join(od_ts_data, how=\"outer\")\n",
    "ts_data = ts_data.join(tsm_data.max(dim=dim).fillna(0).to_dataframe().rename(columns={\"tsm\": \"TSM_max\"}), how=\"outer\")\n",
    "ts_data = ts_data.join(tsm_data.mean(dim=dim).fillna(0).to_dataframe().rename(columns={\"tsm\": \"TSM_mean\"}), how=\"outer\")\n",
    "ts_data = ts_data.join(ndvi_data.mean(dim=dim).fillna(0).to_dataframe(name=\"NDVI_mean\"), how=\"outer\")"
   ]
  },
  {
   "cell_type": "markdown",
   "metadata": {},
   "source": [
    "The Pearson correlation is then computed across all pairs of variables as depicted below. The [Pearson correlation](https://en.wikipedia.org/wiki/Pearson_correlation_coefficient) indicates the linear correlation as a number between -1 (negatively correlated) to 0 (not correlated) to 1 (positively correlated). The darker the color, the stronger the correlation. The Pearson measures global correlation and does not provide information about phasing or directionality between the two variables."
   ]
  },
  {
   "cell_type": "code",
   "execution_count": null,
   "metadata": {},
   "outputs": [],
   "source": [
    "corr = ts_data.resample(\"W\").mean().corr()\n",
    "mask = np.full(corr.shape, False, dtype=bool)\n",
    "mask[np.triu_indices_from(mask)] = True\n",
    "fig = plt.figure(figsize=(30,30))\n",
    "hmap = sns.heatmap(corr, mask=mask, cmap=plt.cm.RdBu, vmax=1, vmin=-1, square=True,\n",
    "                   linewidths=0.1, linecolor='white', annot=True, fmt=\".2f\", cbar_kws={\"shrink\": 0.5})"
   ]
  },
  {
   "cell_type": "markdown",
   "metadata": {},
   "source": [
    "### List of Strong Correlations\n",
    "From the matrix visualization above we create a list of the strongest correlations. Later, we graph a few of these correlations to gain better insight."
   ]
  },
  {
   "cell_type": "code",
   "execution_count": null,
   "metadata": {},
   "outputs": [],
   "source": [
    "corr[(corr.abs() > 0.75) & (~mask)].stack().sort_values()"
   ]
  },
  {
   "cell_type": "markdown",
   "metadata": {},
   "source": [
    "## Time-Lagged Cross-Correlation\n",
    "\n",
    "Time-lagged cross correlation was performed on chlorophyll, dissolved oxygen, phosphate, and nitrate in order to understand the phasing or directionality between the variables. Unfortunately, the limited resolution of the water quality data means the phasing offset is a month.  Ideally, we would like this time to be shorter."
   ]
  },
  {
   "cell_type": "code",
   "execution_count": null,
   "metadata": {},
   "outputs": [],
   "source": [
    "tlcc = ts_data[[\"chlorophyll\", \"DO\", \"PO4\", \"NO3\"]].resample(\"M\").mean()\n",
    "cols = []\n",
    "for col in tlcc.columns:\n",
    "    for i in range(-2, 3):\n",
    "        s = col if i == 0 else \"%s%+dm\" % (col, i)\n",
    "        cols.append(s)\n",
    "        tlcc[s] = tlcc[col].shift(periods=i)\n",
    "tlcc = tlcc.reindex(cols, axis=1)\n",
    "corr = tlcc.corr()\n",
    "mask = np.full(corr.shape, False, dtype=bool)\n",
    "mask[np.triu_indices_from(mask)] = True\n",
    "fig = plt.figure(figsize=(15,15))\n",
    "hmap = sns.heatmap(corr, mask=mask, cmap=plt.cm.RdBu, vmax=1, vmin=-1, square=True,\n",
    "                   linewidths=0.1, linecolor='white', annot=True, fmt=\".2f\", cbar_kws={\"shrink\": 0.5})"
   ]
  },
  {
   "cell_type": "markdown",
   "metadata": {},
   "source": [
    "Of interest is that there appears to be a stronger correlation between current phosphate levels and dissolved oxygen levels one month later, meaning that an increase in phosphate levels is followed by a decrease in oxygen a month later.  While this does not necessarily prove a cause and effect relationship, it suggests that there may be one.  "
   ]
  },
  {
   "cell_type": "markdown",
   "metadata": {},
   "source": [
    "# [Data Plots &#9652;](#Index)\n",
    "---\n",
    "## Dissolved Oxygen and Phosphates\n",
    "\n",
    "Dissolved oxygen is a measure of the amount of oxygen dissolved in the water and available to aquatic life. Dissolved oxygen is inversely correlated with water temperature since as water warms it cannot physically hold as much oxygen. We have observed that dissolved oxygen is also inversely correlated with phosphate levels.\n",
    "\n",
    "Phosphate (PO4) , similar to fixed nitrogen, is a critical nutrient for life as it is necessary for the transport of energy, formation of DNA, and the creation of cellular membranes. However, too much phosphate can disrupt aquatic ecosystems: Phosphate is normally considered the limiting factor for algal growth. An influx of phosphate can trigger a bloom in already nutrient-rich water.\n",
    "\n",
    "One hypothesis is that these two values are inversely correlated due to the activity of algae. Discharged nutrients, such as nitrogen and phosphorous, can stimulate an algal bloom. When the algae comprising the blooms die off, there is then a depletion of oxygen as they are degraded by bacteria, causing the formation of a dead zone. When oxygen concentrations drop below 8 mg/L the water is considered hypoxic and part of a dead zone.   Organisms which require oxygen (such as fish and other animals) may die if unable to escape to more oxygen-rich areas.  This phenomenon is known as [eutrophication](https://en.wikipedia.org/wiki/Eutrophication).\n",
    "\n",
    "Below, we plot both phosphate (PO40 and Dissolved Oxygen (DO) vs. time using data parsed from non-GIS sources:\n"
   ]
  },
  {
   "cell_type": "code",
   "execution_count": null,
   "metadata": {},
   "outputs": [],
   "source": [
    "fig, ax = plt.subplots(figsize=(20, 8))\n",
    "ax1 = eliz_data.set_index(\"time\")[\"DO\"].dropna().plot(ax=ax, marker=\"o\", alpha=0.5)\n",
    "ax2 = eliz_data.set_index(\"time\")[\"PO4\"].dropna().plot(ax=ax, secondary_y=True, marker=\"o\", alpha=0.5)\n",
    "# Monthly Avg\n",
    "#ax1 = eliz_data.set_index(\"time\")[\"DO\"].resample(\"M\").mean().dropna().plot(ax=ax, marker=\"o\", alpha=0.5)\n",
    "#ax2 = eliz_data.set_index(\"time\")[\"PO4\"].resample(\"M\").mean().dropna().plot(ax=ax, secondary_y=True, marker=\"o\", alpha=0.5)\n",
    "# Weekly Avg\n",
    "#ax1 = eliz_data.set_index(\"time\")[\"DO\"].resample(\"W\").mean().dropna().plot(ax=ax, marker=\"o\", alpha=0.5)\n",
    "#ax2 = eliz_data.set_index(\"time\")[\"PO4\"].resample(\"W\").mean().dropna().plot(ax=ax, secondary_y=True, marker=\"o\", alpha=0.5)\n",
    "ax.set_xlabel(\"\")\n",
    "ax1.set_ylabel(\"Dissolved Oxygen Level [%s]\" % descrip.loc[\"DO\", \"units\"])\n",
    "ax2.set_ylabel(\"Phosphate Level [%s]\" % descrip.loc[\"PO4\", \"units\"])\n",
    "lines1, labels1 = ax1.get_legend_handles_labels()\n",
    "lines2, labels2 = ax2.get_legend_handles_labels()\n",
    "ax.legend(lines1+lines2, labels1+labels2)\n",
    "plt.show()\n"
   ]
  },
  {
   "cell_type": "code",
   "execution_count": null,
   "metadata": {},
   "outputs": [],
   "source": [
    "#This helper function simplifies plotting for multiple branches of the river\n",
    "def plot_branches(ax, var, data):\n",
    "    cond = (data[\"depth\"] == 1) if var == \"T\" else True\n",
    "    data[(data[\"station\"].isin(ne_stations)) & cond].set_index(\"time\")[var].dropna(\n",
    "        ).plot(ax=ax, marker=\"o\", alpha=0.5, label=\"Northeast Branch\")\n",
    "    data[(data[\"station\"].isin(east_stations)) & cond].set_index(\"time\")[var].dropna(\n",
    "        ).plot(ax=ax, marker=\"o\", alpha=0.5, label=\"East Branch\")\n",
    "    data[(data[\"station\"].isin(west_stations)) & cond].set_index(\"time\")[var].dropna(\n",
    "        ).plot(ax=ax, marker=\"o\", alpha=0.5, label=\"West Branch\")\n",
    "    data[(data[\"station\"].isin(south_stations)) & cond].set_index(\"time\")[var].dropna(\n",
    "        ).plot(ax=ax, marker=\"o\", alpha=0.5, label=\"South Branch\")\n",
    "    data[(data[\"station\"].isin(main_stations)) & cond].set_index(\"time\")[var].dropna(\n",
    "        ).plot(ax=ax, marker=\"o\", alpha=0.5, label=\"Main Branch\")\n",
    "    ax.set_xlabel(\"\")\n",
    "    ax.legend()"
   ]
  },
  {
   "cell_type": "markdown",
   "metadata": {},
   "source": [
    "### Temperature"
   ]
  },
  {
   "cell_type": "code",
   "execution_count": null,
   "metadata": {},
   "outputs": [],
   "source": [
    "fig, ax = plt.subplots(figsize=(20, 8))\n",
    "plot_branches(ax, \"T\", data)\n",
    "ax.set_ylabel(\"Temperature [%s]\" % descrip.loc[\"T\", \"units\"])\n",
    "plt.show()"
   ]
  },
  {
   "cell_type": "markdown",
   "metadata": {},
   "source": [
    "### Filtered Nitrates, Total Dissolved Phosphorus, and Total Suspended Solids\n",
    "\n",
    "As suggested by [Lowrance [1997]](https://link.springer.com/content/pdf/10.1007/s002679900060.pdf), buffer health is indicated by the removal of nitrate, sediment, and dissolved phosphorus. "
   ]
  },
  {
   "cell_type": "code",
   "execution_count": null,
   "metadata": {},
   "outputs": [],
   "source": [
    "fig, ax = plt.subplots(nrows=3, figsize=(20, 16))\n",
    "plot_branches(ax[0], \"NO3\", data)\n",
    "plot_branches(ax[1], \"TDP\", data)\n",
    "plot_branches(ax[2], \"TSS\", data)\n",
    "#ax[0].set_yscale(\"log\"), ax[1].set_yscale(\"log\"), ax[2].set_yscale(\"log\")\n",
    "ax[0].set_ylabel(\"Nitrates [%s]\" % descrip.loc[\"NO3\", \"units\"])\n",
    "ax[1].set_ylabel(\"Dissolved Phosphorus [%s]\" % descrip.loc[\"TDP\", \"units\"])\n",
    "ax[2].set_ylabel(\"Suspended Solids [%s]\" % descrip.loc[\"TSS\", \"units\"])\n",
    "plt.show()"
   ]
  },
  {
   "cell_type": "markdown",
   "metadata": {},
   "source": [
    "### Optical Density"
   ]
  },
  {
   "cell_type": "code",
   "execution_count": null,
   "metadata": {},
   "outputs": [],
   "source": [
    "od_vars = sorted([s for s in od_descrip.index if s.startswith(\"od\")])\n",
    "od_vars.remove(\"od_645b\")\n",
    "od_vars.remove(\"od_663b\")\n",
    "fig, ax = plt.subplots(nrows=len(od_vars), figsize=(20, 30))\n",
    "for i, od in enumerate(od_vars):\n",
    "    plot_branches(ax[i], od, od_data)\n",
    "    ax[i].set_ylabel(\"%s nm\" % od[-4:])\n",
    "ax[0].set_title(\"Optical Density [%s]\" % od_descrip.loc[od, \"units\"], pad=20)\n",
    "plt.show()"
   ]
  },
  {
   "cell_type": "markdown",
   "metadata": {},
   "source": [
    "## [Conclusion and Future Work &#9652;](#Index)\n",
    "---\n",
    "We have demonstrated how to integrate GIS and non-GIS data sources to investigate potential ecological and water quality correlations.  We have also presented an algorithm for identifying riparian buffer regions from satellite data and calculating an NDVI index for them.  We have observed and identified a potential relationship of interest between Dissolved Oxygen and Phosphates which could be a target of future investigations of remote sensing with Landsat or other satellite imagery. Other areas for future work include:\n",
    "\n",
    "* Investigating riparian buffers over larger or longer spatiotemporal scales\n",
    "\n",
    "* An immediate area of exploration could also be to tease out year-over-year trends from the seasonal variation \n",
    "\n",
    "* Another area of future exploration is land cover classification and quantifying the areas of effective buffer from satellite imagery ![Riparian Buffer classification](imgs/riparian_classification.png)\n",
    "\n",
    "Image from Klemas 2014 [4]\n"
   ]
  },
  {
   "cell_type": "markdown",
   "metadata": {},
   "source": [
    "The figure below is a false color composite of three separate images created from Landsat 8 data and Data Cube algorithms.\n",
    "\n",
    "The background image is a median mosaic of Landsat 8 bands nir, swir 1, and red which have been mapped to red, green, and blue respectively. This type of false color image is good for distinguishing land from water.\n",
    "\n",
    "On top of the background image is the per pixel mean NDVI for the buffer region surrounding the Elizabeth River.\n",
    "\n",
    "The final image is the per pixel mean TSM for the Elizabeth River plotted using the 'cool' color map to avoid confusion with the NDVI which also contains red."
   ]
  },
  {
   "cell_type": "code",
   "execution_count": null,
   "metadata": {},
   "outputs": [],
   "source": [
    "fig, ax = plt.subplots(nrows=1, figsize=(30, 15))\n",
    "\n",
    "ndvi_composite\n",
    "extent = [ndvi_composite.longitude.min(),\n",
    "      ndvi_composite.longitude.max(),\n",
    "      ndvi_composite.latitude.min(),\n",
    "      ndvi_composite.latitude.max()]\n",
    "elizabeth_river_buffers = np.ma.masked_where(composite_buffer_mask, ndvi_composite)\n",
    "+(land_and_water_composite.sel(elizabeth_river), bands=['nir', 'swir1', 'red'], min_possible=0, max_possible=5000, ax=ax)\n",
    "im = ax.imshow(elizabeth_river_buffers, cmap='RdYlGn')\n",
    "ndvi_scale = fig.colorbar(im, ax=ax)\n",
    "ndvi_scale.set_label('NDVI')\n",
    "land_mask = xr.ufuncs.logical_not(water_mask)\n",
    "composite_land_mask = land_mask.median(dim='time').astype('bool')\n",
    "elizabeth_river_tsm = np.ma.masked_where(composite_land_mask, mean_tsm_per_pixel.tsm)\n",
    "im = ax.imshow(elizabeth_river_tsm, cmap='cool')\n",
    "ax.grid(False)\n",
    "ax.set_title('Elizabeth River')\n",
    "ax.set_xlabel('Longitude')\n",
    "ax.set_ylabel('Latitude')\n",
    "tsm_scale = fig.colorbar(im, ax=ax)\n",
    "tsm_scale.set_label('TSM')"
   ]
  },
  {
   "cell_type": "markdown",
   "metadata": {},
   "source": [
    "The image above represents is a composite of all our GIS based analyses.  The water portion of the image represents Total Suspended Matter (TSM) with purple areas indicating higher amounts of suspended matter sensed from GIS observations.  The green and red areas along the river represent riparian vegetation, with green areas representing plant life."
   ]
  },
  {
   "cell_type": "markdown",
   "metadata": {},
   "source": [
    "## [References &#9652;](#Index)\n",
    "---\n",
    "[1] Cunningham, Kyle, et al. Riparian Buffers: Types and  Establishment Methods. p. 6.\n",
    "(Cunningham, Stuhlinger, and Liechty, n.d.)\n",
    "\n",
    "[2] Lowrance, Richard, et al. “Water Quality Functions of Riparian Forest Buffers in Chesapeake Bay Watersheds.” Environmental Management, vol. 21, no. 5, Sept. 1997, pp. 687–712. Crossref, doi:10.1007/s002679900060.\n",
    "\n",
    "[3] The Elizabeth River Project, Paradise Creek Riparian Buffer Restoration (VA) Final Report.  March 2013.  Available https://www.nfwf.org/sites/default/files/finalreports1/24395_Final_Report.pdf Retrieved 8/28/2020\n",
    "\n",
    "[4] Klemas, V. (2014). Remote sensing of riparian and wetland buffers: an overview. Journal of Coastal Research, 30(5), 869-880.\n",
    "\n",
    "Prepared by Analytical Mechanics Associates for VMASC"
   ]
  }
 ],
 "metadata": {
  "kernelspec": {
   "display_name": "Python 3",
   "language": "python",
   "name": "python3"
  },
  "language_info": {
   "codemirror_mode": {
    "name": "ipython",
    "version": 3
   },
   "file_extension": ".py",
   "mimetype": "text/x-python",
   "name": "python",
   "nbconvert_exporter": "python",
   "pygments_lexer": "ipython3",
   "version": "3.6.9"
  }
 },
 "nbformat": 4,
 "nbformat_minor": 4
}
