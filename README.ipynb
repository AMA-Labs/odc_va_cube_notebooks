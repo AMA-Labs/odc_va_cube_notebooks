{
 "cells": [
  {
   "cell_type": "markdown",
   "metadata": {
    "tags": []
   },
   "source": [
    "# Open Data Cube (ODC) VA Cube Notebooks\n",
    "The ODC VA Cube Notebooks are for the Virginia Open Data Cube project.\n",
    "\n",
    "This repository includes several example notebooks in the `./notebooks`\n",
    "directory. We suggest starting with\n",
    "[VA_Riparian_Buffer_Landsat_GEE.ipynb](https://github.com/ceos-seo/odc-colab/blob/master/notebooks/VA_Riparian_Buffer_Landsat_GEE.ipynb).\n",
    "\n",
    "Some notebooks - including the one suggested above - make use of Google Earth Engine data. You must be registered as an Earth Engine developer. If not, you may submit an [application to Google](https://signup.earthengine.google.com/). These notebooks make use of the CEOS ODC-GEE project which can be found here: [https://github.com/ceos-seo/odc-gee](https://github.com/ceos-seo/odc-gee).\n",
    "\n",
    "TODO: Explain how to set GEE credentials.\n",
    "\n",
    "<!-- They will require some user interaction for Google authentication, and the user needs to be registered as an Earth Engine developer.-->\n",
    "\n",
    "**Note:** The `notebooks` use global datasets obtained from GEE\n",
    "using [ODC-GEE real-time indexing\n",
    "capabilities](https://github.com/ceos-seo/odc-gee#real-time-indexing).\n",
    "ODC products that retrieve data from GEE are suffixed with `_google`. Other GEE datasets may also be used by\n",
    "including an `asset` parameter in the `dc.load` as shown in the README of the\n",
    "ODC-GEE project.\n",
    "\n",
    "## Notebooks\n",
    "\n",
    "The notebooks currently in the `notebooks/dev` directory are from the CEOS ODC-Colab project - an initiative to demonstrate ODC on Google Colab (see [here](https://github.com/ceos-seo/odc-colab)). These notebooks will not appear in the production (`prod`) environment.\n"
   ]
  }
 ],
 "metadata": {
  "kernelspec": {
   "display_name": "Python 3",
   "language": "python",
   "name": "python3"
  },
  "language_info": {
   "codemirror_mode": {
    "name": "ipython",
    "version": 3
   },
   "file_extension": ".py",
   "mimetype": "text/x-python",
   "name": "python",
   "nbconvert_exporter": "python",
   "pygments_lexer": "ipython3",
   "version": "3.6.9"
  }
 },
 "nbformat": 4,
 "nbformat_minor": 4
}